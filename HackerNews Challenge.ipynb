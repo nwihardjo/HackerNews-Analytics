{
 "cells": [
  {
   "cell_type": "markdown",
   "metadata": {},
   "source": [
    "# HackerNews data analysis challenge with Spark"
   ]
  },
  {
   "cell_type": "markdown",
   "metadata": {},
   "source": [
    "In this notebook, you will analyse a dataset of (almost) all submitted HackerNews posts with Spark. Let's start by importing some of the libraries you will need."
   ]
  },
  {
   "cell_type": "code",
   "execution_count": 3,
   "metadata": {
    "collapsed": true
   },
   "outputs": [
    {
     "data": {
      "text/html": [
       "<style scoped>\n",
       "  .ansiout {\n",
       "    display: block;\n",
       "    unicode-bidi: embed;\n",
       "    white-space: pre-wrap;\n",
       "    word-wrap: break-word;\n",
       "    word-break: break-all;\n",
       "    font-family: \"Source Code Pro\", \"Menlo\", monospace;;\n",
       "    font-size: 13px;\n",
       "    color: #555;\n",
       "    margin-left: 4px;\n",
       "    line-height: 19px;\n",
       "  }\n",
       "</style>\n",
       "<div class=\"ansiout\"></div>"
      ]
     },
     "metadata": {},
     "output_type": "display_data"
    }
   ],
   "source": [
    "import json\n",
    "import numpy as np\n",
    "import matplotlib.pyplot as plt\n",
    "from datetime import datetime as dt\n",
    "\n",
    "# use line of code below when running the code locally. In Databricks, the following line is replaced by display() function\n",
    "# %matplotlib inline"
   ]
  },
  {
   "cell_type": "code",
   "execution_count": 4,
   "metadata": {},
   "outputs": [
    {
     "data": {
      "text/html": [
       "<style scoped>\n",
       "  .ansiout {\n",
       "    display: block;\n",
       "    unicode-bidi: embed;\n",
       "    white-space: pre-wrap;\n",
       "    word-wrap: break-word;\n",
       "    word-break: break-all;\n",
       "    font-family: \"Source Code Pro\", \"Menlo\", monospace;;\n",
       "    font-size: 13px;\n",
       "    color: #555;\n",
       "    margin-left: 4px;\n",
       "    line-height: 19px;\n",
       "  }\n",
       "</style>\n",
       "<div class=\"ansiout\">&lt;SparkContext master=local[8] appName=Databricks Shell&gt;\n",
       "Ready to go!\n",
       "</div>"
      ]
     },
     "metadata": {},
     "output_type": "display_data"
    }
   ],
   "source": [
    "from pyspark import SparkContext\n",
    "sc = SparkContext.getOrCreate()\n",
    "print(sc)\n",
    "print(\"Ready to go!\")"
   ]
  },
  {
   "cell_type": "markdown",
   "metadata": {},
   "source": [
    "The file has one JSON entry per line. In order to make accessing it easier, first turn each entry as a dictionary and use `persist()` to cache the resulting RDD."
   ]
  },
  {
   "cell_type": "code",
   "execution_count": 6,
   "metadata": {},
   "outputs": [
    {
     "data": {
      "text/html": [
       "<style scoped>\n",
       "  .ansiout {\n",
       "    display: block;\n",
       "    unicode-bidi: embed;\n",
       "    white-space: pre-wrap;\n",
       "    word-wrap: break-word;\n",
       "    word-break: break-all;\n",
       "    font-family: \"Source Code Pro\", \"Menlo\", monospace;;\n",
       "    font-size: 13px;\n",
       "    color: #555;\n",
       "    margin-left: 4px;\n",
       "    line-height: 19px;\n",
       "  }\n",
       "</style>\n",
       "<div class=\"ansiout\"><span class=\"ansired\">Out[</span><span class=\"ansired\">13</span><span class=\"ansired\">]: </span>PythonRDD[20] at RDD at PythonRDD.scala:56\n",
       "</div>"
      ]
     },
     "metadata": {},
     "output_type": "display_data"
    }
   ],
   "source": [
    "dataset_json = sc.textFile(\"/FileStore/tables/HNStories.json\")\n",
    "\n",
    "# use line of code below if code was run locally\n",
    "# dataset_json = sc.textFile(\"HNStories.json\")\n",
    "\n",
    "dataset = dataset_json.map(lambda x: json.loads(x))\n",
    "dataset.persist()"
   ]
  },
  {
   "cell_type": "markdown",
   "metadata": {},
   "source": [
    "Finally, Spark has many helper functions on top of the ones we have studied which you will find useful. You can view them at [http://spark.apache.org/docs/latest/api/python/pyspark.html#pyspark.RDD](http://spark.apache.org/docs/latest/api/python/pyspark.html#pyspark.RDD)"
   ]
  },
  {
   "cell_type": "markdown",
   "metadata": {},
   "source": [
    "### Task 1"
   ]
  },
  {
   "cell_type": "markdown",
   "metadata": {},
   "source": [
    "Lets start with some initial analysis. \n",
    "* How many elements are in your datasets?\n",
    "* What does the first element look like?"
   ]
  },
  {
   "cell_type": "code",
   "execution_count": 10,
   "metadata": {},
   "outputs": [
    {
     "data": {
      "text/html": [
       "<style scoped>\n",
       "  .ansiout {\n",
       "    display: block;\n",
       "    unicode-bidi: embed;\n",
       "    white-space: pre-wrap;\n",
       "    word-wrap: break-word;\n",
       "    word-break: break-all;\n",
       "    font-family: \"Source Code Pro\", \"Menlo\", monospace;;\n",
       "    font-size: 13px;\n",
       "    color: #555;\n",
       "    margin-left: 4px;\n",
       "    line-height: 19px;\n",
       "  }\n",
       "</style>\n",
       "<div class=\"ansiout\">Number of elements in datasets 1333789\n",
       "First element: \n",
       " {&apos;author&apos;: &apos;TuxLyn&apos;, &apos;url&apos;: &apos;https://duckduckgo.com/settings&apos;, &apos;objectID&apos;: &apos;7815290&apos;, &apos;created_at&apos;: &apos;2014-05-29T08:25:40Z&apos;, &apos;points&apos;: 1, &apos;title&apos;: &apos;DuckDuckGo Settings&apos;, &apos;num_comments&apos;: 0, &apos;created_at_i&apos;: 1401351940}\n",
       "</div>"
      ]
     },
     "metadata": {},
     "output_type": "display_data"
    }
   ],
   "source": [
    "print('Number of elements in datasets', dataset.count()\n",
    "print('First element: \\n', dataset.first())"
   ]
  },
  {
   "cell_type": "markdown",
   "metadata": {},
   "source": [
    "Each element is a dictionary of attributes and their values for a post. Can you find the set of all attributes used throughout the RDD? The function `dictionary.keys()` gives you the list of attributes of a dictionary."
   ]
  },
  {
   "cell_type": "code",
   "execution_count": 12,
   "metadata": {},
   "outputs": [
    {
     "data": {
      "text/html": [
       "<style scoped>\n",
       "  .ansiout {\n",
       "    display: block;\n",
       "    unicode-bidi: embed;\n",
       "    white-space: pre-wrap;\n",
       "    word-wrap: break-word;\n",
       "    word-break: break-all;\n",
       "    font-family: \"Source Code Pro\", \"Menlo\", monospace;;\n",
       "    font-size: 13px;\n",
       "    color: #555;\n",
       "    margin-left: 4px;\n",
       "    line-height: 19px;\n",
       "  }\n",
       "</style>\n",
       "<div class=\"ansiout\">[&apos;created_at_i&apos;, &apos;points&apos;, &apos;story_text&apos;, &apos;objectID&apos;, &apos;title&apos;, &apos;created_at&apos;, &apos;author&apos;, &apos;num_comments&apos;, &apos;story_id&apos;, &apos;url&apos;]\n",
       "</div>"
      ]
     },
     "metadata": {},
     "output_type": "display_data"
    }
   ],
   "source": [
    "elements = dataset.flatMap(lambda x: x.keys()).distinct().collect()\n",
    "print(elements)"
   ]
  },
  {
   "cell_type": "markdown",
   "metadata": {},
   "source": [
    "We see that there are more attributes than just the one used in the first element. the function `compare_elems` below returns `True` if two elements have exactly the same set of attributes. Can you use it to count the number of elements which have the same set of attributes as the first element?"
   ]
  },
  {
   "cell_type": "code",
   "execution_count": 14,
   "metadata": {
    "collapsed": true
   },
   "outputs": [
    {
     "data": {
      "text/html": [
       "<style scoped>\n",
       "  .ansiout {\n",
       "    display: block;\n",
       "    unicode-bidi: embed;\n",
       "    white-space: pre-wrap;\n",
       "    word-wrap: break-word;\n",
       "    word-break: break-all;\n",
       "    font-family: \"Source Code Pro\", \"Menlo\", monospace;;\n",
       "    font-size: 13px;\n",
       "    color: #555;\n",
       "    margin-left: 4px;\n",
       "    line-height: 19px;\n",
       "  }\n",
       "</style>\n",
       "<div class=\"ansiout\"></div>"
      ]
     },
     "metadata": {},
     "output_type": "display_data"
    }
   ],
   "source": [
    "# Returns true if two elements have the same schema\n",
    "# first, second is a list\n",
    "\n",
    "def compare_elems(first, second):\n",
    "    if len(first) != len(second):\n",
    "        return False\n",
    "    for key in first:\n",
    "        if key not in second:\n",
    "            return False    \n",
    "    return True"
   ]
  },
  {
   "cell_type": "code",
   "execution_count": 15,
   "metadata": {},
   "outputs": [
    {
     "data": {
      "text/html": [
       "<style scoped>\n",
       "  .ansiout {\n",
       "    display: block;\n",
       "    unicode-bidi: embed;\n",
       "    white-space: pre-wrap;\n",
       "    word-wrap: break-word;\n",
       "    word-break: break-all;\n",
       "    font-family: \"Source Code Pro\", \"Menlo\", monospace;;\n",
       "    font-size: 13px;\n",
       "    color: #555;\n",
       "    margin-left: 4px;\n",
       "    line-height: 19px;\n",
       "  }\n",
       "</style>\n",
       "<div class=\"ansiout\">Number of elements which have the same set of attributes as the first element is:  1145245\n",
       "</div>"
      ]
     },
     "metadata": {},
     "output_type": "display_data"
    }
   ],
   "source": [
    "first = dataset.take(1)\n",
    "num_sameElement = (dataset\n",
    "                  .map(lambda x: compare_elems(first[0].keys(), x.keys()))\n",
    "                  .filter(lambda x: x == True)\n",
    "                  .count())\n",
    "\n",
    "print('Number of total elemtn')\n",
    "print('Number of elements which have the same set of attributes as the first element is: ', num_sameElement)"
   ]
  },
  {
   "cell_type": "markdown",
   "metadata": {},
   "source": [
    "We see that the vast majority of elements hold the same structure. In order to make this analysis easier, redefine `dataset` to only have elements which hold this structure."
   ]
  },
  {
   "cell_type": "code",
   "execution_count": 17,
   "metadata": {},
   "outputs": [
    {
     "data": {
      "text/html": [
       "<style scoped>\n",
       "  .ansiout {\n",
       "    display: block;\n",
       "    unicode-bidi: embed;\n",
       "    white-space: pre-wrap;\n",
       "    word-wrap: break-word;\n",
       "    word-break: break-all;\n",
       "    font-family: \"Source Code Pro\", \"Menlo\", monospace;;\n",
       "    font-size: 13px;\n",
       "    color: #555;\n",
       "    margin-left: 4px;\n",
       "    line-height: 19px;\n",
       "  }\n",
       "</style>\n",
       "<div class=\"ansiout\">The number of elements in new dataset:  1145245\n",
       "[{&apos;author&apos;: &apos;TuxLyn&apos;, &apos;url&apos;: &apos;https://duckduckgo.com/settings&apos;, &apos;objectID&apos;: &apos;7815290&apos;, &apos;created_at&apos;: &apos;2014-05-29T08:25:40Z&apos;, &apos;points&apos;: 1, &apos;title&apos;: &apos;DuckDuckGo Settings&apos;, &apos;num_comments&apos;: 0, &apos;created_at_i&apos;: 1401351940}, {&apos;author&apos;: &apos;Leynos&apos;, &apos;url&apos;: &apos;http://bits.blogs.nytimes.com/2014/05/28/making-twitter-easier-to-use/&apos;, &apos;objectID&apos;: &apos;7815285&apos;, &apos;created_at&apos;: &apos;2014-05-29T08:23:46Z&apos;, &apos;points&apos;: 1, &apos;title&apos;: &apos;Making Twitter Easier to Use&apos;, &apos;num_comments&apos;: 0, &apos;created_at_i&apos;: 1401351826}, {&apos;author&apos;: &apos;darrhiggs&apos;, &apos;url&apos;: &apos;http://www.bbc.co.uk/news/technology-27617079&apos;, &apos;objectID&apos;: &apos;7815279&apos;, &apos;created_at&apos;: &apos;2014-05-29T08:21:56Z&apos;, &apos;points&apos;: 2, &apos;title&apos;: &apos;London refers Uber app row to High Court&apos;, &apos;num_comments&apos;: 0, &apos;created_at_i&apos;: 1401351716}]\n",
       "<span class=\"ansired\">Out[</span><span class=\"ansired\">178</span><span class=\"ansired\">]: </span>PythonRDD[20] at RDD at PythonRDD.scala:56\n",
       "</div>"
      ]
     },
     "metadata": {},
     "output_type": "display_data"
    }
   ],
   "source": [
    "new_dataset = dataset.filter(lambda x: compare_elems(first[0].keys(), x.keys())).persist()\n",
    "print('The number of elements in new dataset: ', new_dataset.count())\n",
    "print(new_dataset.take(3))\n",
    "\n",
    "# to avoid RDD overflow to the disk, unpersist unused RDD\n",
    "dataset.unpersist()"
   ]
  },
  {
   "cell_type": "markdown",
   "metadata": {},
   "source": [
    "All of the following tasks are optional, if you want to analyse the dataset in your own way using Spark feel free to do so! The tasks are there as a guide."
   ]
  },
  {
   "cell_type": "markdown",
   "metadata": {},
   "source": [
    "### Task 2: How many posts through time"
   ]
  },
  {
   "cell_type": "markdown",
   "metadata": {},
   "source": [
    "The field `created_at_i` is very useful, it gives you a UNIX timestamp of the time at which the file was created. The following function lets you extract a time from a timestamp."
   ]
  },
  {
   "cell_type": "code",
   "execution_count": 21,
   "metadata": {
    "collapsed": true
   },
   "outputs": [
    {
     "data": {
      "text/html": [
       "<style scoped>\n",
       "  .ansiout {\n",
       "    display: block;\n",
       "    unicode-bidi: embed;\n",
       "    white-space: pre-wrap;\n",
       "    word-wrap: break-word;\n",
       "    word-break: break-all;\n",
       "    font-family: \"Source Code Pro\", \"Menlo\", monospace;;\n",
       "    font-size: 13px;\n",
       "    color: #555;\n",
       "    margin-left: 4px;\n",
       "    line-height: 19px;\n",
       "  }\n",
       "</style>\n",
       "<div class=\"ansiout\"></div>"
      ]
     },
     "metadata": {},
     "output_type": "display_data"
    }
   ],
   "source": [
    "def extract_time(timestamp):\n",
    "    return dt.fromtimestamp(timestamp)"
   ]
  },
  {
   "cell_type": "markdown",
   "metadata": {},
   "source": [
    "Find the minimum and maximum timestamps in the RDD and call them `min_time` and `max_time`. These correspond to the first and last post, when did they occur?"
   ]
  },
  {
   "cell_type": "code",
   "execution_count": 23,
   "metadata": {},
   "outputs": [
    {
     "data": {
      "text/html": [
       "<style scoped>\n",
       "  .ansiout {\n",
       "    display: block;\n",
       "    unicode-bidi: embed;\n",
       "    white-space: pre-wrap;\n",
       "    word-wrap: break-word;\n",
       "    word-break: break-all;\n",
       "    font-family: \"Source Code Pro\", \"Menlo\", monospace;;\n",
       "    font-size: 13px;\n",
       "    color: #555;\n",
       "    margin-left: 4px;\n",
       "    line-height: 19px;\n",
       "  }\n",
       "</style>\n",
       "<div class=\"ansiout\">[datetime.datetime(2014, 5, 29, 8, 25, 40), datetime.datetime(2014, 5, 29, 8, 23, 46), datetime.datetime(2014, 5, 29, 8, 21, 56), datetime.datetime(2014, 5, 29, 8, 18, 42), datetime.datetime(2014, 5, 29, 8, 17, 30)]\n",
       "</div>"
      ]
     },
     "metadata": {},
     "output_type": "display_data"
    }
   ],
   "source": [
    "time_RDD = new_dataset.map(lambda x: extract_time(x['created_at_i']))\n",
    "min_time = time_RDD.min()\n",
    "max_time = time_RDD.max()"
   ]
  },
  {
   "cell_type": "code",
   "execution_count": 24,
   "metadata": {
    "collapsed": true,
    "scrolled": true
   },
   "outputs": [
    {
     "data": {
      "text/html": [
       "<style scoped>\n",
       "  .ansiout {\n",
       "    display: block;\n",
       "    unicode-bidi: embed;\n",
       "    white-space: pre-wrap;\n",
       "    word-wrap: break-word;\n",
       "    word-break: break-all;\n",
       "    font-family: \"Source Code Pro\", \"Menlo\", monospace;;\n",
       "    font-size: 13px;\n",
       "    color: #555;\n",
       "    margin-left: 4px;\n",
       "    line-height: 19px;\n",
       "  }\n",
       "</style>\n",
       "<div class=\"ansiout\">2006-10-09 18:21:51\n",
       "2014-05-29 08:25:40\n",
       "</div>"
      ]
     },
     "metadata": {},
     "output_type": "display_data"
    }
   ],
   "source": [
    "print(min_time)\n",
    "print(max_time)"
   ]
  },
  {
   "cell_type": "markdown",
   "metadata": {},
   "source": [
    "Now lets analyse how many elements through time. The following function assigns a record to one of 200 \"buckets\" of time. Use it to count the number of elements that fall within each bucket and call the result `bucket_rdd`. The result should be such that `buckets` below generates the corresponding output."
   ]
  },
  {
   "cell_type": "code",
   "execution_count": 26,
   "metadata": {
    "collapsed": true
   },
   "outputs": [
    {
     "data": {
      "text/html": [
       "<style scoped>\n",
       "  .ansiout {\n",
       "    display: block;\n",
       "    unicode-bidi: embed;\n",
       "    white-space: pre-wrap;\n",
       "    word-wrap: break-word;\n",
       "    word-break: break-all;\n",
       "    font-family: \"Source Code Pro\", \"Menlo\", monospace;;\n",
       "    font-size: 13px;\n",
       "    color: #555;\n",
       "    margin-left: 4px;\n",
       "    line-height: 19px;\n",
       "  }\n",
       "</style>\n",
       "<div class=\"ansiout\"></div>"
      ]
     },
     "metadata": {},
     "output_type": "display_data"
    }
   ],
   "source": [
    "min_time = dt.timestamp(min_time)\n",
    "max_time = dt.timestamp(max_time)\n",
    "interval = (max_time - min_time + 1) / 200.0\n",
    "\n",
    "def get_bucket(rec):\n",
    "    return int((rec['created_at_i'] - min_time) / interval)"
   ]
  },
  {
   "cell_type": "code",
   "execution_count": 27,
   "metadata": {
    "collapsed": true
   },
   "outputs": [
    {
     "data": {
      "text/html": [
       "<style scoped>\n",
       "  .ansiout {\n",
       "    display: block;\n",
       "    unicode-bidi: embed;\n",
       "    white-space: pre-wrap;\n",
       "    word-wrap: break-word;\n",
       "    word-break: break-all;\n",
       "    font-family: \"Source Code Pro\", \"Menlo\", monospace;;\n",
       "    font-size: 13px;\n",
       "    color: #555;\n",
       "    margin-left: 4px;\n",
       "    line-height: 19px;\n",
       "  }\n",
       "</style>\n",
       "<div class=\"ansiout\"></div>"
      ]
     },
     "metadata": {},
     "output_type": "display_data"
    }
   ],
   "source": [
    "from operator import add\n",
    "\n",
    "buckets_rdd = new_dataset.map(lambda x: (get_bucket(x), 1)).reduceByKey(add)\n",
    "# print(buckets_rdd.take(4))"
   ]
  },
  {
   "cell_type": "code",
   "execution_count": 28,
   "metadata": {
    "collapsed": true
   },
   "outputs": [
    {
     "data": {
      "text/html": [
       "<style scoped>\n",
       "  .ansiout {\n",
       "    display: block;\n",
       "    unicode-bidi: embed;\n",
       "    white-space: pre-wrap;\n",
       "    word-wrap: break-word;\n",
       "    word-break: break-all;\n",
       "    font-family: \"Source Code Pro\", \"Menlo\", monospace;;\n",
       "    font-size: 13px;\n",
       "    color: #555;\n",
       "    margin-left: 4px;\n",
       "    line-height: 19px;\n",
       "  }\n",
       "</style>\n",
       "<div class=\"ansiout\">[(0, 46), (4, 1), (9, 265), (10, 703), (11, 696), (12, 183), (13, 870), (14, 940), (15, 865), (16, 657), (17, 653), (18, 610), (19, 545), (20, 594), (21, 755), (22, 879), (23, 979), (24, 936), (25, 996), (26, 470), (33, 1022), (34, 1712), (35, 1818), (36, 1691), (37, 2069), (38, 2258), (39, 2161), (40, 2210), (41, 2220), (42, 2210), (43, 2374), (44, 2377), (45, 2464), (46, 2536), (47, 2504), (48, 2427), (49, 2427), (50, 2379), (51, 2677), (52, 2511), (53, 2716), (54, 2555), (55, 2504), (56, 2645), (57, 2199), (58, 2437), (59, 2955), (60, 3155), (61, 3089), (62, 3031), (63, 3229), (64, 3066), (65, 2988), (66, 3399), (67, 3206), (68, 2995), (69, 3073), (70, 3083), (71, 652), (83, 2170), (84, 3339), (85, 4708), (86, 5191), (87, 5396), (88, 5436), (89, 5185), (90, 4880), (91, 4883), (92, 5623), (93, 5723), (94, 5784), (95, 5299), (96, 5176), (97, 5096), (98, 5403), (99, 5393), (100, 5486), (101, 5741), (102, 5639), (103, 6206), (104, 6508), (105, 6412), (106, 6716), (107, 7249), (108, 6922), (109, 7446), (110, 5895), (111, 7619), (112, 7921), (113, 8014), (114, 7983), (115, 8304), (116, 8758), (117, 8504), (118, 8013), (119, 7879), (120, 7861), (121, 7970), (122, 7972), (123, 8105), (124, 8102), (125, 8896), (126, 9315), (127, 9454), (128, 10048), (129, 11161), (130, 11793), (131, 10767), (132, 12017), (133, 12504), (134, 11844), (135, 10189), (136, 8336), (137, 10165), (138, 10673), (139, 10306), (140, 9982), (141, 10420), (142, 11184), (143, 11302), (144, 11360), (145, 10999), (146, 10807), (147, 10756), (148, 10256), (149, 10028), (150, 10177), (151, 10379), (152, 10402), (153, 9540), (154, 9241), (155, 9603), (156, 9446), (157, 9282), (158, 9265), (159, 9830), (160, 9660), (161, 10526), (162, 8091), (163, 9642), (164, 10683), (165, 11483), (166, 11196), (167, 11400), (168, 11453), (169, 10947), (170, 10823), (171, 10627), (172, 10505), (173, 10372), (174, 11366), (175, 10962), (176, 10369), (177, 10444), (178, 10419), (179, 10608), (180, 10215), (181, 10703), (182, 10879), (183, 10574), (184, 10992), (185, 11592), (186, 10287), (187, 9729), (188, 8305), (189, 7708), (190, 9714), (191, 9643), (192, 9428), (193, 9522), (194, 9356), (195, 10491), (196, 9157), (197, 8873), (198, 8903), (199, 8294)]\n",
       "</div>"
      ]
     },
     "metadata": {},
     "output_type": "display_data"
    }
   ],
   "source": [
    "# Use this to test your result\n",
    "buckets = sorted(buckets_rdd.collect())\n",
    "print(buckets)"
   ]
  },
  {
   "cell_type": "markdown",
   "metadata": {},
   "source": [
    "We can then use this to plot the number of submitted posts over time."
   ]
  },
  {
   "cell_type": "code",
   "execution_count": 30,
   "metadata": {
    "collapsed": true,
    "scrolled": false
   },
   "outputs": [
    {
     "data": {
      "image/png": "[encoded data removed]"
     },
     "metadata": {},
     "output_type": "display_data"
    }
   ],
   "source": [
    "bs = [dt.fromtimestamp(x[0]*interval + min_time) for x in buckets]\n",
    "ts = [x[1] for x in buckets]\n",
    "plt.plot(bs, ts)\n",
    "display()"
   ]
  },
  {
   "cell_type": "markdown",
   "metadata": {},
   "source": [
    "### Task 3"
   ]
  },
  {
   "cell_type": "markdown",
   "metadata": {
    "collapsed": true
   },
   "source": [
    "The following function gets the hour of the day at which a post was submitted. Use it to find the number of posts submitted at each hour of the day. The value of `hours_buckets` should match the one printed below."
   ]
  },
  {
   "cell_type": "code",
   "execution_count": 33,
   "metadata": {
    "collapsed": true
   },
   "outputs": [
    {
     "data": {
      "text/html": [
       "<style scoped>\n",
       "  .ansiout {\n",
       "    display: block;\n",
       "    unicode-bidi: embed;\n",
       "    white-space: pre-wrap;\n",
       "    word-wrap: break-word;\n",
       "    word-break: break-all;\n",
       "    font-family: \"Source Code Pro\", \"Menlo\", monospace;;\n",
       "    font-size: 13px;\n",
       "    color: #555;\n",
       "    margin-left: 4px;\n",
       "    line-height: 19px;\n",
       "  }\n",
       "</style>\n",
       "<div class=\"ansiout\"></div>"
      ]
     },
     "metadata": {},
     "output_type": "display_data"
    }
   ],
   "source": [
    "def get_hour(rec):\n",
    "    t = dt.fromtimestamp(rec['created_at_i'])\n",
    "    return t.hour"
   ]
  },
  {
   "cell_type": "code",
   "execution_count": 34,
   "metadata": {
    "collapsed": true
   },
   "outputs": [
    {
     "data": {
      "text/html": [
       "<style scoped>\n",
       "  .ansiout {\n",
       "    display: block;\n",
       "    unicode-bidi: embed;\n",
       "    white-space: pre-wrap;\n",
       "    word-wrap: break-word;\n",
       "    word-break: break-all;\n",
       "    font-family: \"Source Code Pro\", \"Menlo\", monospace;;\n",
       "    font-size: 13px;\n",
       "    color: #555;\n",
       "    margin-left: 4px;\n",
       "    line-height: 19px;\n",
       "  }\n",
       "</style>\n",
       "<div class=\"ansiout\"></div>"
      ]
     },
     "metadata": {},
     "output_type": "display_data"
    }
   ],
   "source": [
    "hours_buckets_rdd = new_dataset.map(lambda x: (get_hour(x), 1)).reduceByKey(add)"
   ]
  },
  {
   "cell_type": "code",
   "execution_count": 35,
   "metadata": {
    "collapsed": true
   },
   "outputs": [
    {
     "data": {
      "text/html": [
       "<style scoped>\n",
       "  .ansiout {\n",
       "    display: block;\n",
       "    unicode-bidi: embed;\n",
       "    white-space: pre-wrap;\n",
       "    word-wrap: break-word;\n",
       "    word-break: break-all;\n",
       "    font-family: \"Source Code Pro\", \"Menlo\", monospace;;\n",
       "    font-size: 13px;\n",
       "    color: #555;\n",
       "    margin-left: 4px;\n",
       "    line-height: 19px;\n",
       "  }\n",
       "</style>\n",
       "<div class=\"ansiout\">[(0, 38636), (1, 36761), (2, 34940), (3, 33531), (4, 31730), (5, 30435), (6, 30320), (7, 29856), (8, 29910), (9, 30453), (10, 32045), (11, 37158), (12, 46490), (13, 58537), (14, 68421), (15, 73554), (16, 75936), (17, 75641), (18, 72235), (19, 66127), (20, 62096), (21, 57582), (22, 49808), (23, 43043)]\n",
       "</div>"
      ]
     },
     "metadata": {},
     "output_type": "display_data"
    }
   ],
   "source": [
    "hours_buckets = sorted(hours_buckets_rdd.collect())\n",
    "print(hours_buckets)"
   ]
  },
  {
   "cell_type": "code",
   "execution_count": 36,
   "metadata": {
    "collapsed": true,
    "scrolled": false
   },
   "outputs": [
    {
     "data": {
      "image/png": "[encoded data removed]"
     },
     "metadata": {},
     "output_type": "display_data"
    }
   ],
   "source": [
    "hrs = [x[0] for x in hours_buckets]\n",
    "sz = [x[1] for x in hours_buckets]\n",
    "\n",
    "# used for clearing the previous plot so it does not overlapped (in Databricks )\n",
    "plt.close()\n",
    "plt.plot(hrs, sz)\n",
    "display()"
   ]
  },
  {
   "cell_type": "markdown",
   "metadata": {},
   "source": [
    "### Task 4"
   ]
  },
  {
   "cell_type": "markdown",
   "metadata": {},
   "source": [
    "The number of points scored by a post is under the attribute `points`. Use it to compute the average score received by submissions for each hour."
   ]
  },
  {
   "cell_type": "code",
   "execution_count": 39,
   "metadata": {
    "collapsed": true
   },
   "outputs": [
    {
     "data": {
      "text/html": [
       "<style scoped>\n",
       "  .ansiout {\n",
       "    display: block;\n",
       "    unicode-bidi: embed;\n",
       "    white-space: pre-wrap;\n",
       "    word-wrap: break-word;\n",
       "    word-break: break-all;\n",
       "    font-family: \"Source Code Pro\", \"Menlo\", monospace;;\n",
       "    font-size: 13px;\n",
       "    color: #555;\n",
       "    margin-left: 4px;\n",
       "    line-height: 19px;\n",
       "  }\n",
       "</style>\n",
       "<div class=\"ansiout\"><span class=\"ansired\">Out[</span><span class=\"ansired\">114</span><span class=\"ansired\">]: </span>\n",
       "[{&apos;author&apos;: &apos;TuxLyn&apos;,\n",
       "  &apos;url&apos;: &apos;https://duckduckgo.com/settings&apos;,\n",
       "  &apos;objectID&apos;: &apos;7815290&apos;,\n",
       "  &apos;created_at&apos;: &apos;2014-05-29T08:25:40Z&apos;,\n",
       "  &apos;points&apos;: 1,\n",
       "  &apos;title&apos;: &apos;DuckDuckGo Settings&apos;,\n",
       "  &apos;num_comments&apos;: 0,\n",
       "  &apos;created_at_i&apos;: 1401351940}]\n",
       "</div>"
      ]
     },
     "metadata": {},
     "output_type": "display_data"
    }
   ],
   "source": [
    "#what the data looks like\n",
    "new_dataset.take(1)"
   ]
  },
  {
   "cell_type": "code",
   "execution_count": 40,
   "metadata": {},
   "outputs": [
    {
     "data": {
      "text/html": [
       "<style scoped>\n",
       "  .ansiout {\n",
       "    display: block;\n",
       "    unicode-bidi: embed;\n",
       "    white-space: pre-wrap;\n",
       "    word-wrap: break-word;\n",
       "    word-break: break-all;\n",
       "    font-family: \"Source Code Pro\", \"Menlo\", monospace;;\n",
       "    font-size: 13px;\n",
       "    color: #555;\n",
       "    margin-left: 4px;\n",
       "    line-height: 19px;\n",
       "  }\n",
       "</style>\n",
       "<div class=\"ansiout\"></div>"
      ]
     },
     "metadata": {},
     "output_type": "display_data"
    }
   ],
   "source": [
    "scores_per_hour_rdd = (new_dataset\n",
    "                   .map(lambda x: (get_hour(x), x['points']))\n",
    "                   .reduceByKey(add)\n",
    "                   .join(hours_buckets_rdd)\n",
    "                   .mapValues(lambda x: x[0]/x[1]))"
   ]
  },
  {
   "cell_type": "code",
   "execution_count": 41,
   "metadata": {
    "collapsed": true
   },
   "outputs": [
    {
     "data": {
      "text/html": [
       "<style scoped>\n",
       "  .ansiout {\n",
       "    display: block;\n",
       "    unicode-bidi: embed;\n",
       "    white-space: pre-wrap;\n",
       "    word-wrap: break-word;\n",
       "    word-break: break-all;\n",
       "    font-family: \"Source Code Pro\", \"Menlo\", monospace;;\n",
       "    font-size: 13px;\n",
       "    color: #555;\n",
       "    margin-left: 4px;\n",
       "    line-height: 19px;\n",
       "  }\n",
       "</style>\n",
       "<div class=\"ansiout\">[(0, 10.864426959312558), (1, 10.510350643344848), (2, 10.087779049799657), (3, 10.037338582207509), (4, 9.748975732745036), (5, 9.629209791358633), (6, 8.586378627968339), (7, 8.980807877813504), (8, 9.199197592778335), (9, 9.49666699504154), (10, 10.108878140115463), (11, 10.891355831853167), (12, 10.954140675414067), (13, 11.131557818132121), (14, 10.737668259744815), (15, 10.277877477771433), (16, 10.42850558364939), (17, 10.822318583836807), (18, 10.833930919914168), (19, 10.958867028596488), (20, 10.396080262818861), (21, 10.65820916258553), (22, 10.575108416318663), (23, 10.677880259275607)]\n",
       "</div>"
      ]
     },
     "metadata": {},
     "output_type": "display_data"
    }
   ],
   "source": [
    "scores_per_hour = sorted(scores_per_hour_rdd.collect())\n",
    "print(scores_per_hour)"
   ]
  },
  {
   "cell_type": "code",
   "execution_count": 42,
   "metadata": {
    "collapsed": true
   },
   "outputs": [
    {
     "data": {
      "image/png": "[encoded data removed]"
     },
     "metadata": {},
     "output_type": "display_data"
    }
   ],
   "source": [
    "hrs = [x[0] for x in scores_per_hour]\n",
    "sz = [x[1] for x in scores_per_hour]\n",
    "plt.close()\n",
    "plt.plot(hrs, sz)\n",
    "display()"
   ]
  },
  {
   "cell_type": "markdown",
   "metadata": {},
   "source": [
    "It may be more useful to look at sucessful posts that get over 200 points. Find the proportion of posts that get above 200 points per hour."
   ]
  },
  {
   "cell_type": "code",
   "execution_count": 44,
   "metadata": {
    "collapsed": true
   },
   "outputs": [
    {
     "data": {
      "text/html": [
       "<style scoped>\n",
       "  .ansiout {\n",
       "    display: block;\n",
       "    unicode-bidi: embed;\n",
       "    white-space: pre-wrap;\n",
       "    word-wrap: break-word;\n",
       "    word-break: break-all;\n",
       "    font-family: \"Source Code Pro\", \"Menlo\", monospace;;\n",
       "    font-size: 13px;\n",
       "    color: #555;\n",
       "    margin-left: 4px;\n",
       "    line-height: 19px;\n",
       "  }\n",
       "</style>\n",
       "<div class=\"ansiout\"></div>"
      ]
     },
     "metadata": {},
     "output_type": "display_data"
    }
   ],
   "source": [
    "prop_per_hour_rdd = (new_dataset\n",
    "                   .filter(lambda x: x['points'] > 200)\n",
    "                   .map(lambda x: (get_hour(x), 1))\n",
    "                   .reduceByKey(add)\n",
    "                   .join(hours_buckets_rdd)\n",
    "                   .mapValues(lambda x: x[0]/x[1]))"
   ]
  },
  {
   "cell_type": "code",
   "execution_count": 45,
   "metadata": {
    "collapsed": true
   },
   "outputs": [
    {
     "data": {
      "text/html": [
       "<style scoped>\n",
       "  .ansiout {\n",
       "    display: block;\n",
       "    unicode-bidi: embed;\n",
       "    white-space: pre-wrap;\n",
       "    word-wrap: break-word;\n",
       "    word-break: break-all;\n",
       "    font-family: \"Source Code Pro\", \"Menlo\", monospace;;\n",
       "    font-size: 13px;\n",
       "    color: #555;\n",
       "    margin-left: 4px;\n",
       "    line-height: 19px;\n",
       "  }\n",
       "</style>\n",
       "<div class=\"ansiout\">[(0, 0.008411843876177659), (1, 0.007127118413536085), (2, 0.007412707498568975), (3, 0.007038263099818079), (4, 0.006586826347305389), (5, 0.006735666173813044), (6, 0.006299472295514512), (7, 0.0070002679528403), (8, 0.007154797726512872), (9, 0.007125734738777789), (10, 0.007489467935715401), (11, 0.008477313095430325), (12, 0.00905571090557109), (13, 0.009395766779985309), (14, 0.008915391473378057), (15, 0.008415585828099084), (16, 0.008652022756005058), (17, 0.008910511495088643), (18, 0.009081470201425901), (19, 0.008967592662603777), (20, 0.007891007472300954), (21, 0.008058073703587926), (22, 0.007709604882749759), (23, 0.007806147341031062)]\n",
       "</div>"
      ]
     },
     "metadata": {},
     "output_type": "display_data"
    }
   ],
   "source": [
    "prop_per_hour = sorted(prop_per_hour_rdd.collect())\n",
    "print(prop_per_hour)"
   ]
  },
  {
   "cell_type": "code",
   "execution_count": 46,
   "metadata": {
    "collapsed": true
   },
   "outputs": [
    {
     "data": {
      "image/png": "[encoded data removed]"
     },
     "metadata": {},
     "output_type": "display_data"
    }
   ],
   "source": [
    "hrs = [x[0] for x in prop_per_hour]\n",
    "sz = [x[1] for x in prop_per_hour]\n",
    "plt.close()\n",
    "plt.plot(hrs, sz)\n",
    "display()"
   ]
  },
  {
   "cell_type": "markdown",
   "metadata": {},
   "source": [
    "### Task 5"
   ]
  },
  {
   "cell_type": "markdown",
   "metadata": {},
   "source": [
    "The following function lists the word in the title. Use it to count the number of words in the title of each post, and look at the proportion of successful posts for each title length."
   ]
  },
  {
   "cell_type": "code",
   "execution_count": 49,
   "metadata": {
    "collapsed": true
   },
   "outputs": [
    {
     "data": {
      "text/html": [
       "<style scoped>\n",
       "  .ansiout {\n",
       "    display: block;\n",
       "    unicode-bidi: embed;\n",
       "    white-space: pre-wrap;\n",
       "    word-wrap: break-word;\n",
       "    word-break: break-all;\n",
       "    font-family: \"Source Code Pro\", \"Menlo\", monospace;;\n",
       "    font-size: 13px;\n",
       "    color: #555;\n",
       "    margin-left: 4px;\n",
       "    line-height: 19px;\n",
       "  }\n",
       "</style>\n",
       "<div class=\"ansiout\"></div>"
      ]
     },
     "metadata": {},
     "output_type": "display_data"
    }
   ],
   "source": [
    "import re\n",
    "def get_words(line):\n",
    "    return re.compile('\\w+').findall(line)"
   ]
  },
  {
   "cell_type": "code",
   "execution_count": 50,
   "metadata": {
    "collapsed": true
   },
   "outputs": [
    {
     "data": {
      "text/html": [
       "<style scoped>\n",
       "  .ansiout {\n",
       "    display: block;\n",
       "    unicode-bidi: embed;\n",
       "    white-space: pre-wrap;\n",
       "    word-wrap: break-word;\n",
       "    word-break: break-all;\n",
       "    font-family: \"Source Code Pro\", \"Menlo\", monospace;;\n",
       "    font-size: 13px;\n",
       "    color: #555;\n",
       "    margin-left: 4px;\n",
       "    line-height: 19px;\n",
       "  }\n",
       "</style>\n",
       "<div class=\"ansiout\"></div>"
      ]
     },
     "metadata": {},
     "output_type": "display_data"
    }
   ],
   "source": [
    "num_success = new_dataset.filter(lambda x: x['points'] > 200).count()\n",
    "\n",
    "prop_per_title_length_rdd = (new_dataset\n",
    "                             .filter(lambda x: x['points'] > 200)\n",
    "                             .map(lambda x: (len(get_words(x['title'])), 1))\n",
    "                             .reduceByKey(add)\n",
    "                             .mapValues(lambda x: x / num_success))                         "
   ]
  },
  {
   "cell_type": "code",
   "execution_count": 51,
   "metadata": {
    "collapsed": true
   },
   "outputs": [
    {
     "data": {
      "text/html": [
       "<style scoped>\n",
       "  .ansiout {\n",
       "    display: block;\n",
       "    unicode-bidi: embed;\n",
       "    white-space: pre-wrap;\n",
       "    word-wrap: break-word;\n",
       "    word-break: break-all;\n",
       "    font-family: \"Source Code Pro\", \"Menlo\", monospace;;\n",
       "    font-size: 13px;\n",
       "    color: #555;\n",
       "    margin-left: 4px;\n",
       "    line-height: 19px;\n",
       "  }\n",
       "</style>\n",
       "<div class=\"ansiout\">[(1, 0.014781491002570694), (2, 0.03963153384747215), (3, 0.06694515852613539), (4, 0.09393744644387318), (5, 0.11300342759211654), (6, 0.1063624678663239), (7, 0.10839760068551842), (8, 0.10143530419880034), (9, 0.0921165381319623), (10, 0.07722793487574979), (11, 0.06276778063410454), (12, 0.04937874892887746), (13, 0.037917737789203085), (14, 0.017673521850899744), (15, 0.011568123393316195), (16, 0.005141388174807198), (17, 0.0012853470437017994), (18, 0.00032133676092544985), (19, 0.00010711225364181663)]\n",
       "</div>"
      ]
     },
     "metadata": {},
     "output_type": "display_data"
    }
   ],
   "source": [
    "prop_per_title_length = sorted(prop_per_title_length_rdd.collect())\n",
    "print(prop_per_title_length)"
   ]
  },
  {
   "cell_type": "code",
   "execution_count": 52,
   "metadata": {
    "collapsed": true
   },
   "outputs": [
    {
     "data": {
      "image/png": "[encoded data removed]"
     },
     "metadata": {},
     "output_type": "display_data"
    }
   ],
   "source": [
    "hrs = [x[0] for x in prop_per_title_length]\n",
    "sz = [x[1] for x in prop_per_title_length]\n",
    "plt.close()\n",
    "plt.plot(hrs, sz)\n",
    "display()"
   ]
  },
  {
   "cell_type": "markdown",
   "metadata": {},
   "source": [
    "Lets compare this with the distribution of number of words. Count for each title length the number of submissions with that length."
   ]
  },
  {
   "cell_type": "code",
   "execution_count": 54,
   "metadata": {
    "collapsed": true
   },
   "outputs": [
    {
     "data": {
      "text/html": [
       "<style scoped>\n",
       "  .ansiout {\n",
       "    display: block;\n",
       "    unicode-bidi: embed;\n",
       "    white-space: pre-wrap;\n",
       "    word-wrap: break-word;\n",
       "    word-break: break-all;\n",
       "    font-family: \"Source Code Pro\", \"Menlo\", monospace;;\n",
       "    font-size: 13px;\n",
       "    color: #555;\n",
       "    margin-left: 4px;\n",
       "    line-height: 19px;\n",
       "  }\n",
       "</style>\n",
       "<div class=\"ansiout\"></div>"
      ]
     },
     "metadata": {},
     "output_type": "display_data"
    }
   ],
   "source": [
    "submissions_per_length_rdd = (new_dataset\n",
    "                              .map(lambda x: (len(get_words(x['title'])), 1))\n",
    "                              .reduceByKey(add))"
   ]
  },
  {
   "cell_type": "code",
   "execution_count": 55,
   "metadata": {
    "collapsed": true
   },
   "outputs": [
    {
     "data": {
      "text/html": [
       "<style scoped>\n",
       "  .ansiout {\n",
       "    display: block;\n",
       "    unicode-bidi: embed;\n",
       "    white-space: pre-wrap;\n",
       "    word-wrap: break-word;\n",
       "    word-break: break-all;\n",
       "    font-family: \"Source Code Pro\", \"Menlo\", monospace;;\n",
       "    font-size: 13px;\n",
       "    color: #555;\n",
       "    margin-left: 4px;\n",
       "    line-height: 19px;\n",
       "  }\n",
       "</style>\n",
       "<div class=\"ansiout\">[(0, 1872), (1, 8286), (2, 27724), (3, 60100), (4, 87779), (5, 116065), (6, 135970), (7, 144269), (8, 139418), (9, 123801), (10, 102534), (11, 78129), (12, 54170), (13, 34005), (14, 17604), (15, 8289), (16, 3329), (17, 1195), (18, 387), (19, 164), (20, 65), (21, 33), (22, 8), (23, 13), (24, 12), (25, 7), (26, 7), (27, 2), (28, 1), (29, 3), (30, 2), (36, 1), (38, 1)]\n",
       "</div>"
      ]
     },
     "metadata": {},
     "output_type": "display_data"
    }
   ],
   "source": [
    "submissions_per_length = sorted(submissions_per_length_rdd.collect())\n",
    "print(submissions_per_length)"
   ]
  },
  {
   "cell_type": "code",
   "execution_count": 56,
   "metadata": {
    "collapsed": true
   },
   "outputs": [
    {
     "data": {
      "image/png": "[encoded data removed]"
     },
     "metadata": {},
     "output_type": "display_data"
    }
   ],
   "source": [
    "hrs = [x[0] for x in submissions_per_length]\n",
    "sz = [x[1] for x in submissions_per_length]\n",
    "plt.close()\n",
    "plt.plot(hrs, sz)\n",
    "display()"
   ]
  },
  {
   "cell_type": "markdown",
   "metadata": {},
   "source": [
    "Looks like most people are getting it wrong!"
   ]
  },
  {
   "cell_type": "markdown",
   "metadata": {},
   "source": [
    "### Task 6"
   ]
  },
  {
   "cell_type": "markdown",
   "metadata": {
    "collapsed": true
   },
   "source": [
    "For this task, you will need a new function: `takeOrdered()`. Like `take()` it collects elements from an RDD. However, it can be applied the smalles elements. For example, `takeOrdered(10)` returns the 10 smallest elements. Furthermore, you can pass it a function to specify the way in which the elements should be ordered. For example, `takeOrdered(10, lambda x: -x)` will return the 10 largest elements.\n",
    "\n",
    "The function below extracts the url domain out of a record. Use it to count the number of distinct domains posted to."
   ]
  },
  {
   "cell_type": "code",
   "execution_count": 60,
   "metadata": {
    "collapsed": true,
    "scrolled": true
   },
   "outputs": [
    {
     "data": {
      "text/html": [
       "<style scoped>\n",
       "  .ansiout {\n",
       "    display: block;\n",
       "    unicode-bidi: embed;\n",
       "    white-space: pre-wrap;\n",
       "    word-wrap: break-word;\n",
       "    word-break: break-all;\n",
       "    font-family: \"Source Code Pro\", \"Menlo\", monospace;;\n",
       "    font-size: 13px;\n",
       "    color: #555;\n",
       "    margin-left: 4px;\n",
       "    line-height: 19px;\n",
       "  }\n",
       "</style>\n",
       "<div class=\"ansiout\">duckduckgo.com\n",
       "</div>"
      ]
     },
     "metadata": {},
     "output_type": "display_data"
    }
   ],
   "source": [
    "from urllib.parse import urlparse\n",
    "def get_domain(rec):\n",
    "    url = urlparse(rec['url']).netloc\n",
    "    if url[0:4] == 'www.':\n",
    "        return url[4:]\n",
    "    else:\n",
    "        return url\n",
    "print(get_domain(new_dataset.take(1)[0]))"
   ]
  },
  {
   "cell_type": "code",
   "execution_count": 61,
   "metadata": {
    "collapsed": true
   },
   "outputs": [
    {
     "data": {
      "text/html": [
       "<style scoped>\n",
       "  .ansiout {\n",
       "    display: block;\n",
       "    unicode-bidi: embed;\n",
       "    white-space: pre-wrap;\n",
       "    word-wrap: break-word;\n",
       "    word-break: break-all;\n",
       "    font-family: \"Source Code Pro\", \"Menlo\", monospace;;\n",
       "    font-size: 13px;\n",
       "    color: #555;\n",
       "    margin-left: 4px;\n",
       "    line-height: 19px;\n",
       "  }\n",
       "</style>\n",
       "<div class=\"ansiout\">Number of distinct domain 90\n",
       "</div>"
      ]
     },
     "metadata": {},
     "output_type": "display_data"
    }
   ],
   "source": [
    "distinct_domain = (new_dataset\n",
    "                   .flatMap(lambda x: get_domain(x))\n",
    "                   .distinct()\n",
    "                   .count())\n",
    "\n",
    "print('Number of distinct domain', distinct_domain)"
   ]
  },
  {
   "cell_type": "markdown",
   "metadata": {},
   "source": [
    "Using `takeOrdered()` find the 25 most popular domains posted to."
   ]
  },
  {
   "cell_type": "code",
   "execution_count": 63,
   "metadata": {
    "collapsed": true
   },
   "outputs": [
    {
     "data": {
      "text/html": [
       "<style scoped>\n",
       "  .ansiout {\n",
       "    display: block;\n",
       "    unicode-bidi: embed;\n",
       "    white-space: pre-wrap;\n",
       "    word-wrap: break-word;\n",
       "    word-break: break-all;\n",
       "    font-family: \"Source Code Pro\", \"Menlo\", monospace;;\n",
       "    font-size: 13px;\n",
       "    color: #555;\n",
       "    margin-left: 4px;\n",
       "    line-height: 19px;\n",
       "  }\n",
       "</style>\n",
       "<div class=\"ansiout\"></div>"
      ]
     },
     "metadata": {},
     "output_type": "display_data"
    }
   ],
   "source": [
    "top25 = (new_dataset\n",
    "         .map(lambda x: (get_domain(x), 1))\n",
    "         .reduceByKey(add)\n",
    "         .takeOrdered(25, key= lambda x: -x[1]))"
   ]
  },
  {
   "cell_type": "code",
   "execution_count": 64,
   "metadata": {
    "collapsed": true
   },
   "outputs": [
    {
     "data": {
      "text/html": [
       "<style scoped>\n",
       "  .ansiout {\n",
       "    display: block;\n",
       "    unicode-bidi: embed;\n",
       "    white-space: pre-wrap;\n",
       "    word-wrap: break-word;\n",
       "    word-break: break-all;\n",
       "    font-family: \"Source Code Pro\", \"Menlo\", monospace;;\n",
       "    font-size: 13px;\n",
       "    color: #555;\n",
       "    margin-left: 4px;\n",
       "    line-height: 19px;\n",
       "  }\n",
       "</style>\n",
       "<div class=\"ansiout\">[(&apos;techcrunch.com&apos;, 22483), (&apos;youtube.com&apos;, 16783), (&apos;github.com&apos;, 16084), (&apos;nytimes.com&apos;, 14091), (&apos;arstechnica.com&apos;, 10654), (&apos;wired.com&apos;, 8332), (&apos;bbc.co.uk&apos;, 6914), (&apos;medium.com&apos;, 6291), (&apos;mashable.com&apos;, 5937), (&apos;businessinsider.com&apos;, 5495), (&apos;thenextweb.com&apos;, 5447), (&apos;online.wsj.com&apos;, 5374), (&apos;venturebeat.com&apos;, 5306), (&apos;en.wikipedia.org&apos;, 5247), (&apos;readwriteweb.com&apos;, 5223), (&apos;forbes.com&apos;, 5050), (&apos;gigaom.com&apos;, 4931), (&apos;theverge.com&apos;, 4358), (&apos;news.cnet.com&apos;, 4202), (&apos;theatlantic.com&apos;, 3966), (&apos;guardian.co.uk&apos;, 3945), (&apos;economist.com&apos;, 3827), (&apos;washingtonpost.com&apos;, 3402), (&apos;engadget.com&apos;, 3287), (&apos;technologyreview.com&apos;, 2994)]\n",
       "</div>"
      ]
     },
     "metadata": {},
     "output_type": "display_data"
    }
   ],
   "source": [
    "print(top25)"
   ]
  },
  {
   "cell_type": "code",
   "execution_count": 65,
   "metadata": {
    "collapsed": true
   },
   "outputs": [
    {
     "data": {
      "image/png": "[encoded data removed]"
     },
     "metadata": {},
     "output_type": "display_data"
    }
   ],
   "source": [
    "index = np.arange(25)\n",
    "labels = [x[0] for x in top25]\n",
    "counts = np.array([x[1] for x in top25]) * 100.0/dataset.count()\n",
    "plt.close()\n",
    "plt.xticks(index,labels, rotation='vertical')\n",
    "plt.bar(index, counts, 0.5)\n",
    "display()"
   ]
  },
  {
   "cell_type": "markdown",
   "metadata": {},
   "source": [
    "Create an pair RDD with 26 elements mapping each of these 25 popular domains with the average score received by the corresponding submissions as well as an `other` field for all submissions to other domains."
   ]
  },
  {
   "cell_type": "code",
   "execution_count": 67,
   "metadata": {
    "collapsed": true
   },
   "outputs": [
    {
     "data": {
      "text/html": [
       "<style scoped>\n",
       "  .ansiout {\n",
       "    display: block;\n",
       "    unicode-bidi: embed;\n",
       "    white-space: pre-wrap;\n",
       "    word-wrap: break-word;\n",
       "    word-break: break-all;\n",
       "    font-family: \"Source Code Pro\", \"Menlo\", monospace;;\n",
       "    font-size: 13px;\n",
       "    color: #555;\n",
       "    margin-left: 4px;\n",
       "    line-height: 19px;\n",
       "  }\n",
       "</style>\n",
       "<div class=\"ansiout\"></div>"
      ]
     },
     "metadata": {},
     "output_type": "display_data"
    }
   ],
   "source": [
    "def map_to_domain(rec):\n",
    "    domain = get_domain(rec)\n",
    "    if domain in dict(top25):\n",
    "        return domain\n",
    "    else:\n",
    "        return 'other'"
   ]
  },
  {
   "cell_type": "code",
   "execution_count": 68,
   "metadata": {
    "collapsed": true
   },
   "outputs": [
    {
     "data": {
      "text/html": [
       "<style scoped>\n",
       "  .ansiout {\n",
       "    display: block;\n",
       "    unicode-bidi: embed;\n",
       "    white-space: pre-wrap;\n",
       "    word-wrap: break-word;\n",
       "    word-break: break-all;\n",
       "    font-family: \"Source Code Pro\", \"Menlo\", monospace;;\n",
       "    font-size: 13px;\n",
       "    color: #555;\n",
       "    margin-left: 4px;\n",
       "    line-height: 19px;\n",
       "  }\n",
       "</style>\n",
       "<div class=\"ansiout\"></div>"
      ]
     },
     "metadata": {},
     "output_type": "display_data"
    }
   ],
   "source": [
    "domain_count = (new_dataset\n",
    "                .map(lambda x: (map_to_domain(x), 1))\n",
    "                .reduceByKey(add)\n",
    "                .cache())\n",
    "\n",
    "domain_av_score_rdd = (new_dataset\n",
    "                       .map(lambda x: (map_to_domain(x), x['points']))\n",
    "                       .reduceByKey(add)\n",
    "                       .join(domain_count)\n",
    "                       .mapValues(lambda x: x[0] / x[1]))"
   ]
  },
  {
   "cell_type": "code",
   "execution_count": 69,
   "metadata": {
    "collapsed": true
   },
   "outputs": [
    {
     "data": {
      "text/html": [
       "<style scoped>\n",
       "  .ansiout {\n",
       "    display: block;\n",
       "    unicode-bidi: embed;\n",
       "    white-space: pre-wrap;\n",
       "    word-wrap: break-word;\n",
       "    word-break: break-all;\n",
       "    font-family: \"Source Code Pro\", \"Menlo\", monospace;;\n",
       "    font-size: 13px;\n",
       "    color: #555;\n",
       "    margin-left: 4px;\n",
       "    line-height: 19px;\n",
       "  }\n",
       "</style>\n",
       "<div class=\"ansiout\">[(&apos;other&apos;, 10.436019477600967), (&apos;nytimes.com&apos;, 14.112696047122277), (&apos;theverge.com&apos;, 4.373106929784305), (&apos;en.wikipedia.org&apos;, 10.312750142938823), (&apos;technologyreview.com&apos;, 8.105878423513694), (&apos;news.cnet.com&apos;, 9.018086625416469), (&apos;venturebeat.com&apos;, 7.508480964945345), (&apos;washingtonpost.com&apos;, 17.386831275720166), (&apos;economist.com&apos;, 11.029004442121767), (&apos;youtube.com&apos;, 3.738127867484955), (&apos;thenextweb.com&apos;, 11.297411419129796), (&apos;bbc.co.uk&apos;, 11.377928840034713), (&apos;medium.com&apos;, 8.341281195358448), (&apos;mashable.com&apos;, 5.164392790971871), (&apos;readwriteweb.com&apos;, 6.566724104920544), (&apos;gigaom.com&apos;, 8.187385925775704), (&apos;arstechnica.com&apos;, 14.169326074713723), (&apos;guardian.co.uk&apos;, 5.3776932826362485), (&apos;theatlantic.com&apos;, 15.751386787695411), (&apos;techcrunch.com&apos;, 12.69706000088956), (&apos;wired.com&apos;, 13.367618819011042), (&apos;github.com&apos;, 14.577095249937827), (&apos;online.wsj.com&apos;, 10.287309266840342), (&apos;forbes.com&apos;, 9.52990099009901), (&apos;engadget.com&apos;, 8.233951931852753), (&apos;businessinsider.com&apos;, 4.3887170154686075)]\n",
       "</div>"
      ]
     },
     "metadata": {},
     "output_type": "display_data"
    }
   ],
   "source": [
    "domain_av_score = domain_av_score_rdd.collect()\n",
    "print(domain_av_score)"
   ]
  },
  {
   "cell_type": "code",
   "execution_count": 70,
   "metadata": {
    "collapsed": true
   },
   "outputs": [
    {
     "data": {
      "image/png": "[encoded data removed]"
     },
     "metadata": {},
     "output_type": "display_data"
    }
   ],
   "source": [
    "index26 = np.arange(26)\n",
    "labels = [x[0] for x in top25]\n",
    "labels.append('other')\n",
    "vals = np.array([dict(domain_av_score)[x] for x in labels])\n",
    "plt.close()\n",
    "plt.xticks(index26, labels, rotation='vertical')\n",
    "plt.bar(index26, vals, 0.5)\n",
    "display()"
   ]
  },
  {
   "cell_type": "markdown",
   "metadata": {},
   "source": [
    "Now compute the proportion of successes for each domain (over 200 points)."
   ]
  },
  {
   "cell_type": "code",
   "execution_count": 72,
   "metadata": {},
   "outputs": [
    {
     "data": {
      "text/html": [
       "<style scoped>\n",
       "  .ansiout {\n",
       "    display: block;\n",
       "    unicode-bidi: embed;\n",
       "    white-space: pre-wrap;\n",
       "    word-wrap: break-word;\n",
       "    word-break: break-all;\n",
       "    font-family: \"Source Code Pro\", \"Menlo\", monospace;;\n",
       "    font-size: 13px;\n",
       "    color: #555;\n",
       "    margin-left: 4px;\n",
       "    line-height: 19px;\n",
       "  }\n",
       "</style>\n",
       "<div class=\"ansiout\"><span class=\"ansired\">Out[</span><span class=\"ansired\">180</span><span class=\"ansired\">]: </span>\n",
       "{&apos;author&apos;: &apos;TuxLyn&apos;,\n",
       " &apos;url&apos;: &apos;https://duckduckgo.com/settings&apos;,\n",
       " &apos;objectID&apos;: &apos;7815290&apos;,\n",
       " &apos;created_at&apos;: &apos;2014-05-29T08:25:40Z&apos;,\n",
       " &apos;points&apos;: 1,\n",
       " &apos;title&apos;: &apos;DuckDuckGo Settings&apos;,\n",
       " &apos;num_comments&apos;: 0,\n",
       " &apos;created_at_i&apos;: 1401351940}\n",
       "</div>"
      ]
     },
     "metadata": {},
     "output_type": "display_data"
    }
   ],
   "source": [
    "new_dataset.first()"
   ]
  },
  {
   "cell_type": "code",
   "execution_count": 73,
   "metadata": {
    "collapsed": true
   },
   "outputs": [
    {
     "data": {
      "text/html": [
       "<style scoped>\n",
       "  .ansiout {\n",
       "    display: block;\n",
       "    unicode-bidi: embed;\n",
       "    white-space: pre-wrap;\n",
       "    word-wrap: break-word;\n",
       "    word-break: break-all;\n",
       "    font-family: \"Source Code Pro\", \"Menlo\", monospace;;\n",
       "    font-size: 13px;\n",
       "    color: #555;\n",
       "    margin-left: 4px;\n",
       "    line-height: 19px;\n",
       "  }\n",
       "</style>\n",
       "<div class=\"ansiout\"></div>"
      ]
     },
     "metadata": {},
     "output_type": "display_data"
    }
   ],
   "source": [
    "domain_prop_rdd = (new_dataset\n",
    "                  .filter(lambda x: x['points'] > 200)\n",
    "                  .map(lambda x: (map_to_domain(x), 1))\n",
    "                  .reduceByKey(add)\n",
    "                  .join(domain_count)\n",
    "                  .mapValues(lambda x: x[0] / x[1]))"
   ]
  },
  {
   "cell_type": "code",
   "execution_count": 74,
   "metadata": {
    "collapsed": true
   },
   "outputs": [
    {
     "data": {
      "text/html": [
       "<style scoped>\n",
       "  .ansiout {\n",
       "    display: block;\n",
       "    unicode-bidi: embed;\n",
       "    white-space: pre-wrap;\n",
       "    word-wrap: break-word;\n",
       "    word-break: break-all;\n",
       "    font-family: \"Source Code Pro\", \"Menlo\", monospace;;\n",
       "    font-size: 13px;\n",
       "    color: #555;\n",
       "    margin-left: 4px;\n",
       "    line-height: 19px;\n",
       "  }\n",
       "</style>\n",
       "<div class=\"ansiout\">[(&apos;other&apos;, 0.008386304371689957), (&apos;nytimes.com&apos;, 0.009793485203321269), (&apos;theverge.com&apos;, 0.0016062413951353832), (&apos;en.wikipedia.org&apos;, 0.00952925481227368), (&apos;technologyreview.com&apos;, 0.003006012024048096), (&apos;news.cnet.com&apos;, 0.005235602094240838), (&apos;venturebeat.com&apos;, 0.00395778364116095), (&apos;washingtonpost.com&apos;, 0.018224573780129337), (&apos;economist.com&apos;, 0.004180820486020381), (&apos;youtube.com&apos;, 0.0019066912947625573), (&apos;thenextweb.com&apos;, 0.008077841013401872), (&apos;bbc.co.uk&apos;, 0.007810240092565809), (&apos;medium.com&apos;, 0.008583690987124463), (&apos;mashable.com&apos;, 0.0016843523665150749), (&apos;readwriteweb.com&apos;, 0.002106069308826345), (&apos;gigaom.com&apos;, 0.0038531737984181707), (&apos;arstechnica.com&apos;, 0.011169513797634692), (&apos;guardian.co.uk&apos;, 0.0017743979721166034), (&apos;theatlantic.com&apos;, 0.014120020171457387), (&apos;techcrunch.com&apos;, 0.00587110261086154), (&apos;wired.com&apos;, 0.00972155544887182), (&apos;github.com&apos;, 0.01255906490922656), (&apos;online.wsj.com&apos;, 0.005582433941198363), (&apos;forbes.com&apos;, 0.007722772277227723), (&apos;engadget.com&apos;, 0.003954974140553696), (&apos;businessinsider.com&apos;, 0.0018198362147406734)]\n",
       "</div>"
      ]
     },
     "metadata": {},
     "output_type": "display_data"
    }
   ],
   "source": [
    "domain_prop = domain_prop_rdd.collect()\n",
    "print(domain_prop)"
   ]
  },
  {
   "cell_type": "code",
   "execution_count": 75,
   "metadata": {},
   "outputs": [
    {
     "data": {
      "image/png": "[encoded data removed]"
     },
     "metadata": {},
     "output_type": "display_data"
    }
   ],
   "source": [
    "index26 = np.arange(26)\n",
    "labels = [x[0] for x in top25]\n",
    "labels.append('other')\n",
    "vals = np.array([dict(domain_prop)[x] for x in labels])\n",
    "plt.close()\n",
    "plt.xticks(index26, labels, rotation='vertical')\n",
    "plt.bar(index26, vals, 0.5)\n",
    "display()"
   ]
  }
 ],
 "metadata": {
  "kernelspec": {
   "display_name": "Python 3",
   "language": "python",
   "name": "python3"
  },
  "language_info": {
   "codemirror_mode": {
    "name": "ipython",
    "version": 3
   },
   "file_extension": ".py",
   "mimetype": "text/x-python",
   "name": "python",
   "nbconvert_exporter": "python",
   "pygments_lexer": "ipython3",
   "version": "3.6.8"
  },
  "name": "HackerNews Challenge",
  "notebookId": 4251968096026468
 },
 "nbformat": 4,
 "nbformat_minor": 1
}
