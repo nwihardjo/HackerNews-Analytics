{
 "cells": [
  {
   "cell_type": "markdown",
   "metadata": {
    "collapsed": true
   },
   "source": [
    "# Introduction to Spark"
   ]
  },
  {
   "cell_type": "markdown",
   "metadata": {},
   "source": [
    "In this notebook, you will be introduced to the Apache Spark libary for big data processing. There's a now a python package called `pyspark` which will load Spark for you. Tthe variable `sc` is a Spark context that lets you interact with the Spark runtime. Check that it is correctly initialised:"
   ]
  },
  {
   "cell_type": "code",
   "execution_count": 1,
   "metadata": {},
   "outputs": [
    {
     "name": "stdout",
     "output_type": "stream",
     "text": [
      "<SparkContext master=local[*] appName=pyspark-shell>\n",
      "Ready to go!\n"
     ]
    }
   ],
   "source": [
    "from pyspark import SparkContext\n",
    "sc = SparkContext.getOrCreate()\n",
    "print(sc)\n",
    "print(\"Ready to go!\")"
   ]
  },
  {
   "cell_type": "markdown",
   "metadata": {},
   "source": [
    "### Learning activity: Create RDDs"
   ]
  },
  {
   "cell_type": "markdown",
   "metadata": {},
   "source": [
    "To analyse large datasets using Spark you will load them into Resilient Distributed Datasets (RDDs). There are a number of ways in which you can create RDDs. Use the `parallelize()` function to create one from a Python collection of elements [\"Hello\", \"World\", \"!\"] "
   ]
  },
  {
   "cell_type": "code",
   "execution_count": 5,
   "metadata": {},
   "outputs": [
    {
     "data": {
      "text/plain": [
       "ParallelCollectionRDD[4] at parallelize at PythonRDD.scala:175"
      ]
     },
     "execution_count": 5,
     "metadata": {},
     "output_type": "execute_result"
    }
   ],
   "source": [
    "sc.parallelize(['Hello', 'World', '!'])"
   ]
  },
  {
   "cell_type": "markdown",
   "metadata": {},
   "source": [
    "Use the `textFile()` function to create an RDD from the file `war-and-peace.txt` and store it in a variable called `lines`. "
   ]
  },
  {
   "cell_type": "code",
   "execution_count": 3,
   "metadata": {
    "collapsed": true
   },
   "outputs": [],
   "source": [
    "lines = sc.textFile('war-and-peace.txt')"
   ]
  },
  {
   "cell_type": "markdown",
   "metadata": {},
   "source": [
    "### Learning activity: Basic RDD manipulation"
   ]
  },
  {
   "cell_type": "markdown",
   "metadata": {},
   "source": [
    "Print the number of lines in War and Peace using the functions `count()`."
   ]
  },
  {
   "cell_type": "code",
   "execution_count": 33,
   "metadata": {},
   "outputs": [
    {
     "data": {
      "text/plain": [
       "54223"
      ]
     },
     "execution_count": 33,
     "metadata": {},
     "output_type": "execute_result"
    }
   ],
   "source": [
    "lines.count()\n",
    "#return integer"
   ]
  },
  {
   "cell_type": "markdown",
   "metadata": {},
   "source": [
    "Print the first 15 lines using the functions `take()`."
   ]
  },
  {
   "cell_type": "code",
   "execution_count": 19,
   "metadata": {
    "scrolled": true
   },
   "outputs": [
    {
     "data": {
      "text/plain": [
       "['                                      1869',\n",
       " '                                 WAR AND PEACE',\n",
       " '                                 by Leo Tolstoy',\n",
       " 'BK1',\n",
       " '                                 BOOK ONE: 1805',\n",
       " 'BK1|CH1',\n",
       " '  CHAPTER I',\n",
       " '',\n",
       " '  \"Well, Prince, so Genoa and Lucca are now just family estates of the',\n",
       " \"Buonapartes. But I warn you, if you don't tell me that this means war,\",\n",
       " 'if you still try to defend the infamies and horrors perpetrated by',\n",
       " 'that Antichrist- I really believe he is Antichrist- I will have',\n",
       " 'nothing more to do with you and you are no longer my friend, no longer',\n",
       " \"my 'faithful slave,' as you call yourself! But how do you do? I see\",\n",
       " 'I have frightened you- sit down and tell me all the news.\"']"
      ]
     },
     "execution_count": 19,
     "metadata": {},
     "output_type": "execute_result"
    }
   ],
   "source": [
    "lines.take(15)\n",
    "#return a list"
   ]
  },
  {
   "cell_type": "markdown",
   "metadata": {},
   "source": [
    "### Learning activity: `filter()` and `map()` and `distinct()`"
   ]
  },
  {
   "cell_type": "markdown",
   "metadata": {},
   "source": [
    "Lets apply some transformations onto RDDs. The following helper function will be useful to select the words from a line."
   ]
  },
  {
   "cell_type": "code",
   "execution_count": 8,
   "metadata": {
    "scrolled": true
   },
   "outputs": [
    {
     "name": "stdout",
     "output_type": "stream",
     "text": [
      "['This', 'is', 'a', 'test']\n"
     ]
    }
   ],
   "source": [
    "# A helper function to compute the list of words in a line of text\n",
    "import re\n",
    "def get_words(line):\n",
    "    return re.compile('\\w+').findall(line)\n",
    "\n",
    "print(get_words(\"This, is a test!\"))"
   ]
  },
  {
   "cell_type": "markdown",
   "metadata": {},
   "source": [
    "Use `filter()` to count the number of lines which mention `war` and the number of lines which mention `peace`."
   ]
  },
  {
   "cell_type": "code",
   "execution_count": 46,
   "metadata": {},
   "outputs": [
    {
     "name": "stdout",
     "output_type": "stream",
     "text": [
      "265\n",
      "104\n"
     ]
    }
   ],
   "source": [
    "# How often are war and peace mentioned?\n",
    "\n",
    "#if doesn't contain war, it returns false and get ignored\n",
    "#the get_words function avoid the counting of word warning in such a war\n",
    "war_lines = lines.filter(lambda l: 'war' in get_words(l))\n",
    "print(war_lines.count())\n",
    "\n",
    "peace_lines = lines.filter(lambda l: 'peace' in get_words(l))\n",
    "print(peace_lines.count())"
   ]
  },
  {
   "cell_type": "markdown",
   "metadata": {},
   "source": [
    "Use `map()` to capitalise each line in the RDD, and print the first 15 capitalized lines."
   ]
  },
  {
   "cell_type": "code",
   "execution_count": 23,
   "metadata": {},
   "outputs": [
    {
     "data": {
      "text/plain": [
       "['                                      1869',\n",
       " '                                 WAR AND PEACE',\n",
       " '                                 BY LEO TOLSTOY',\n",
       " 'BK1',\n",
       " '                                 BOOK ONE: 1805',\n",
       " 'BK1|CH1',\n",
       " '  CHAPTER I',\n",
       " '',\n",
       " '  \"WELL, PRINCE, SO GENOA AND LUCCA ARE NOW JUST FAMILY ESTATES OF THE',\n",
       " \"BUONAPARTES. BUT I WARN YOU, IF YOU DON'T TELL ME THAT THIS MEANS WAR,\",\n",
       " 'IF YOU STILL TRY TO DEFEND THE INFAMIES AND HORRORS PERPETRATED BY',\n",
       " 'THAT ANTICHRIST- I REALLY BELIEVE HE IS ANTICHRIST- I WILL HAVE',\n",
       " 'NOTHING MORE TO DO WITH YOU AND YOU ARE NO LONGER MY FRIEND, NO LONGER',\n",
       " \"MY 'FAITHFUL SLAVE,' AS YOU CALL YOURSELF! BUT HOW DO YOU DO? I SEE\",\n",
       " 'I HAVE FRIGHTENED YOU- SIT DOWN AND TELL ME ALL THE NEWS.\"']"
      ]
     },
     "execution_count": 23,
     "metadata": {},
     "output_type": "execute_result"
    }
   ],
   "source": [
    "# Capitalize each line in the RDD\n",
    "\n",
    "#instead of using for loop, the lambda function can be used to call the function parallely\n",
    "cap_lines = lines.map(lambda l: l.upper())\n",
    "cap_lines.take(15)"
   ]
  },
  {
   "cell_type": "markdown",
   "metadata": {},
   "source": [
    "Use `flatMap()` to create an RDD of the words in War and Peace and count the number of words."
   ]
  },
  {
   "cell_type": "code",
   "execution_count": 31,
   "metadata": {},
   "outputs": [
    {
     "name": "stdout",
     "output_type": "stream",
     "text": [
      "573322\n"
     ]
    },
    {
     "data": {
      "text/plain": [
       "['1869', 'WAR', 'AND', 'PEACE', 'by', 'Leo', 'Tolstoy', 'BK1', 'BOOK', 'ONE']"
      ]
     },
     "execution_count": 31,
     "metadata": {},
     "output_type": "execute_result"
    }
   ],
   "source": [
    "# Split each line into words using get_words()\n",
    "\n",
    "#the usage of get_words is make each word a line, instead of numerous words in a row or in a line\n",
    "words = lines.flatMap(lambda l: get_words(l))\n",
    "print(words.count())\n",
    "\n",
    "#the first 10 words\n",
    "words.take(10)"
   ]
  },
  {
   "cell_type": "markdown",
   "metadata": {},
   "source": [
    "Finally, use `distinct()` to count the number of different words in the RDD."
   ]
  },
  {
   "cell_type": "code",
   "execution_count": 32,
   "metadata": {},
   "outputs": [
    {
     "data": {
      "text/plain": [
       "19206"
      ]
     },
     "execution_count": 32,
     "metadata": {},
     "output_type": "execute_result"
    }
   ],
   "source": [
    "# Count the number of distinct words\n",
    "distinct_words = words.distinct()\n",
    "distinct_words.count()"
   ]
  },
  {
   "cell_type": "markdown",
   "metadata": {},
   "source": [
    "### Learning activity: Set like transformations"
   ]
  },
  {
   "cell_type": "markdown",
   "metadata": {},
   "source": [
    "Use the functions `union()` and `intersection()` to create RDDs of lines with either war or peace mentioned, and both war and peace being mentioned. Count how many lines of each type there are and print some examples."
   ]
  },
  {
   "cell_type": "code",
   "execution_count": 43,
   "metadata": {
    "scrolled": true
   },
   "outputs": [
    {
     "name": "stdout",
     "output_type": "stream",
     "text": [
      "RDDs of lines which have either war or peace mentioned:  369\n",
      "RDDs of lines which have both war and peace mentioned:  7\n"
     ]
    }
   ],
   "source": [
    "union_lines = war_lines.union(peace_lines)\n",
    "print('RDDs of lines which have either war or peace mentioned: ', union_lines.count())\n",
    "\n",
    "intersect_lines = war_lines.intersection(peace_lines)\n",
    "print('RDDs of lines which have both war and peace mentioned: ', intersect_lines.count())"
   ]
  },
  {
   "cell_type": "markdown",
   "metadata": {},
   "source": [
    "### Learning activity: `reduce()`"
   ]
  },
  {
   "cell_type": "markdown",
   "metadata": {},
   "source": [
    "You have already seen three actions: `collect()` which returns all elements in the RDD, `take(n)`, which return the first `n` elements of the RDD, and `count()` which returns the number of elements in the RDD.\n",
    "\n",
    "The action `reduce()` takes as input a function which collapses two elements into one. Use it to find the longest word in War and Peace."
   ]
  },
  {
   "cell_type": "code",
   "execution_count": 59,
   "metadata": {},
   "outputs": [
    {
     "data": {
      "text/plain": [
       "'characteristically'"
      ]
     },
     "execution_count": 59,
     "metadata": {},
     "output_type": "execute_result"
    }
   ],
   "source": [
    "#reduce works by comparing one data with the neighbouring data\n",
    "def longer_words(x, y):\n",
    "    if len(x) > len(y):\n",
    "        return x\n",
    "    else:\n",
    "        return y\n",
    "\n",
    "words.reduce(lambda x, y: longer_words(x, y))\n",
    "\n",
    "#words.reduce(lambda x, y: return x if len(x) > len(y) else y)"
   ]
  },
  {
   "cell_type": "markdown",
   "metadata": {},
   "source": [
    "### Bonus activity: merging filters"
   ]
  },
  {
   "cell_type": "markdown",
   "metadata": {},
   "source": [
    "Find all the lines that mention both war and peace **without** using `intersection()`."
   ]
  },
  {
   "cell_type": "code",
   "execution_count": 60,
   "metadata": {},
   "outputs": [
    {
     "data": {
      "text/plain": [
       "7"
      ]
     },
     "execution_count": 60,
     "metadata": {},
     "output_type": "execute_result"
    }
   ],
   "source": [
    "merging_lines = lines.filter(lambda l: 'war' in get_words(l)).filter(lambda l: 'peace' in get_words(l))\n",
    "#both works the same\n",
    "#merging_lines = lines.filter(lambda l: 'war' in get_words(l) and 'peace' in get_words(l))\n",
    "merging_lines.count()"
   ]
  },
  {
   "cell_type": "markdown",
   "metadata": {},
   "source": [
    "### Bonus learning activity: Finding proper nouns"
   ]
  },
  {
   "cell_type": "markdown",
   "metadata": {},
   "source": [
    "The Python function `str.istitle()` returns `True` if the string `str` is titlecased: the first character is uppercase and others are lowercase. Use it to:\n",
    "* Find the set of distinct words in War and Peace which are titlecased\n",
    "* Find the set of distinct words in War and Peace which are not titlecased"
   ]
  },
  {
   "cell_type": "code",
   "execution_count": 64,
   "metadata": {},
   "outputs": [
    {
     "data": {
      "text/plain": [
       "3068"
      ]
     },
     "execution_count": 64,
     "metadata": {},
     "output_type": "execute_result"
    }
   ],
   "source": [
    "titlecased_words = words.filter(lambda l: l.istitle()).distinct()\n",
    "titlecased_words.count()"
   ]
  },
  {
   "cell_type": "markdown",
   "metadata": {},
   "source": [
    "The Python function `str.lower` returns a string with all characters of `str` lowercase. Use it, along with your previously generated RDD to find the set of words in War and Peace which only appear titlecased."
   ]
  },
  {
   "cell_type": "code",
   "execution_count": 73,
   "metadata": {},
   "outputs": [
    {
     "name": "stdout",
     "output_type": "stream",
     "text": [
      "16138\n"
     ]
    },
    {
     "data": {
      "text/plain": [
       "['Leo',\n",
       " 'Lucca',\n",
       " 'Kuragin',\n",
       " 'Buonaparte',\n",
       " 'God',\n",
       " 'Hardenburg',\n",
       " 'Wintzingerode',\n",
       " 'Funke',\n",
       " 'Lavater',\n",
       " 'Bolkonski',\n",
       " 'Kutuzov',\n",
       " 'Helene',\n",
       " 'Russian',\n",
       " 'Andrew',\n",
       " 'Boris']"
      ]
     },
     "execution_count": 73,
     "metadata": {},
     "output_type": "execute_result"
    }
   ],
   "source": [
    "#not_titlecased_words = words.filter(lambda l: not l.istitle()).distinct()\n",
    "\n",
    "not_titlecased_words = words.subtract(titlecased_words).distinct()\n",
    "print(not_titlecased_words.count())\n",
    "\n",
    "#to extract the titlecased words to only to proper nouns. words such as 'the' even though is titlecased, might be caused by\n",
    "#the placement that it is at the beginning of the sentence.\n",
    "proper_nouns = titlecased_words.subtract(not_titlecased_words.map(lambda l: l.title()))\n",
    "proper_nouns.take(15)\n",
    "#the proper nouns are only names"
   ]
  },
  {
   "cell_type": "markdown",
   "metadata": {},
   "source": [
    "# Key/Value pairs in Spark"
   ]
  },
  {
   "cell_type": "markdown",
   "metadata": {
    "collapsed": true
   },
   "source": [
    "### Learning activity: WordCount in Spark"
   ]
  },
  {
   "cell_type": "markdown",
   "metadata": {},
   "source": [
    "Use the functions `flatMap()` and `reduceByKey()` to count the number of occurences of each word in War and Peace, and print the count of five words."
   ]
  },
  {
   "cell_type": "code",
   "execution_count": 95,
   "metadata": {},
   "outputs": [
    {
     "data": {
      "text/plain": [
       "[('PEACE', 1), ('Leo', 1), ('BOOK', 15), ('ONE', 2), ('1805', 24)]"
      ]
     },
     "execution_count": 95,
     "metadata": {},
     "output_type": "execute_result"
    }
   ],
   "source": [
    "word_count = words.map(lambda l: (l, 1)).reduceByKey(lambda a, b: a+b)\n",
    "word_count.take(5)"
   ]
  },
  {
   "cell_type": "markdown",
   "metadata": {},
   "source": [
    "### Learning activity: using `groupByKey()`"
   ]
  },
  {
   "cell_type": "markdown",
   "metadata": {},
   "source": [
    "Reimplement the above word count using `groupByKey()` instead of `reduceByKey()`"
   ]
  },
  {
   "cell_type": "code",
   "execution_count": 96,
   "metadata": {},
   "outputs": [
    {
     "data": {
      "text/plain": [
       "[('PEACE', 1), ('Leo', 1), ('BOOK', 15), ('ONE', 2), ('1805', 24)]"
      ]
     },
     "execution_count": 96,
     "metadata": {},
     "output_type": "execute_result"
    }
   ],
   "source": [
    "word_count = words.map(lambda l: (l, 1)).groupByKey().map(lambda l: (l[0], sum(l[1])))\n",
    "word_count.take(5)"
   ]
  },
  {
   "cell_type": "markdown",
   "metadata": {},
   "source": [
    "### Bonus learning activity: computing the average of each key"
   ]
  },
  {
   "cell_type": "markdown",
   "metadata": {},
   "source": [
    "The pair RDD defined below `word_line_pairs` has an element for each line in War and Peace with as key the first word, and as value the line itself. Use it to compute the average length of each line for each starting word."
   ]
  },
  {
   "cell_type": "code",
   "execution_count": 111,
   "metadata": {
    "collapsed": true
   },
   "outputs": [],
   "source": [
    "word_line_pairs = lines.filter(lambda line: len(get_words(line)) > 0).map(lambda line: (get_words(line)[0], line))     "
   ]
  },
  {
   "cell_type": "code",
   "execution_count": 112,
   "metadata": {},
   "outputs": [
    {
     "data": {
      "text/plain": [
       "[('BOOK', 48.46666666666667),\n",
       " ('It', 62.230496453900706),\n",
       " ('Fedorovna', 68.0),\n",
       " ('of', 59.47846889952153),\n",
       " ('reception', 66.0)]"
      ]
     },
     "execution_count": 112,
     "metadata": {},
     "output_type": "execute_result"
    }
   ],
   "source": [
    "#map the first word to how many occurence of the word\n",
    "word_line_pairs = word_line_pairs.map(lambda l: (l[0], (len(l[1]), 1)))\n",
    "#count the occurence\n",
    "word_line_pairs = word_line_pairs.reduceByKey(lambda x, y: (x[0] + y[0], x[1] + y[1]))\n",
    "#count the average of the how many words in the first word\n",
    "word_line_pairs = word_line_pairs.map(lambda l: (l[0], l[1][0] / float(l[1][1])))\n",
    "word_line_pairs.take(5)"
   ]
  }
 ],
 "metadata": {
  "kernelspec": {
   "display_name": "Python 3",
   "language": "python",
   "name": "python3"
  },
  "language_info": {
   "codemirror_mode": {
    "name": "ipython",
    "version": 3
   },
   "file_extension": ".py",
   "mimetype": "text/x-python",
   "name": "python",
   "nbconvert_exporter": "python",
   "pygments_lexer": "ipython3",
   "version": "3.6.1"
  }
 },
 "nbformat": 4,
 "nbformat_minor": 1
}
